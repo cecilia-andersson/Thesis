{
 "cells": [
  {
   "cell_type": "code",
   "execution_count": null,
   "id": "5d1bff6e-3283-43a4-87bc-6146f272e7f5",
   "metadata": {},
   "outputs": [],
   "source": [
    "import pandas as pd\n",
    "import pubchempy as pcp"
   ]
  },
  {
   "cell_type": "code",
   "execution_count": null,
   "id": "0afd3725-f341-4626-ae3a-c883daca1864",
   "metadata": {},
   "outputs": [],
   "source": [
    "df = pd.read_csv('PubChemBackup.csv')\n",
    "\n",
    "#Extracting the list of PubChem compound identifiers\n",
    "cid_list = df['cid']\n",
    "\n",
    "#List for SMILES figures\n",
    "smiles_list = []\n",
    "\n",
    "def get_smiles(input_cid):\n",
    "    mol = pcp.Compound.from_cid(int(input_cid))\n",
    "    smiles_list.append(mol.canonical_smiles)\n",
    "    return smiles_list\n",
    "\n",
    "cid_list"
   ]
  },
  {
   "cell_type": "code",
   "execution_count": null,
   "id": "c81a65ca-2743-457d-b563-ae2c20cbb465",
   "metadata": {},
   "outputs": [],
   "source": [
    "# Too long for all 18,000 molecules\n",
    "# Maybe filter data first\n",
    "# Data filtering: rm all with blank cid, aid, maybe acname (activity concentrations-- if don't have these, how can we justify using data?)\n",
    "# TRIAL run: processed 7 in 3 seconds\n",
    "#180 in 84 seconds!\n",
    "[get_smiles(mol) for mol in cid_list]"
   ]
  },
  {
   "cell_type": "code",
   "execution_count": null,
   "id": "39c4ec75-13c8-4206-87a8-2c5fe8224938",
   "metadata": {},
   "outputs": [],
   "source": [
    "df['smiles'] = smiles_list\n",
    "df.to_csv('FULLPubchemDataSummary.csv')"
   ]
  },
  {
   "cell_type": "code",
   "execution_count": null,
   "id": "11497130-cc20-47ee-8bc5-2854efabb20c",
   "metadata": {},
   "outputs": [],
   "source": []
  }
 ],
 "metadata": {
  "kernelspec": {
   "display_name": "Python 3 (ipykernel)",
   "language": "python",
   "name": "python3"
  },
  "language_info": {
   "codemirror_mode": {
    "name": "ipython",
    "version": 3
   },
   "file_extension": ".py",
   "mimetype": "text/x-python",
   "name": "python",
   "nbconvert_exporter": "python",
   "pygments_lexer": "ipython3",
   "version": "3.13.0"
  }
 },
 "nbformat": 4,
 "nbformat_minor": 5
}
