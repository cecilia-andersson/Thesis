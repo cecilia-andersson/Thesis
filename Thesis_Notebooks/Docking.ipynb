{
 "cells": [
  {
   "cell_type": "code",
   "execution_count": 1,
   "id": "d16f5a5e-d98e-4d39-bf31-5696472ad4bb",
   "metadata": {},
   "outputs": [],
   "source": [
    "# IMPORTS-- run first\n",
    "import pandas as pd\n",
    "import os\n",
    "import subprocess"
   ]
  },
  {
   "cell_type": "markdown",
   "id": "4762cf82-3f6c-4ccd-8c4f-a80ce4938ada",
   "metadata": {},
   "source": [
    "<h1>1. Creating Individual Small Molecule Data Files</h1>\n",
    "This section uses pandas to make individual files from the True Actives, True Inactives, and LUDe and DeepCoy Decoys data sets. These files will then be modified using obabel to convert them to 3D format-- .mol2 and .sdf, in this case."
   ]
  },
  {
   "cell_type": "markdown",
   "id": "eb34a349-75fc-4dc4-8e86-138bd93647dd",
   "metadata": {},
   "source": [
    "<h3>1.1 Creating individual SMILES files with unique names</h3>"
   ]
  },
  {
   "cell_type": "code",
   "execution_count": null,
   "id": "58269237-b9e9-460f-9cf8-4d1eb576b06d",
   "metadata": {},
   "outputs": [],
   "source": [
    "A_df = pd.read_csv('True_Actives/Actives_smiles.csv')"
   ]
  },
  {
   "cell_type": "code",
   "execution_count": null,
   "id": "05aaedbe-56c5-48a5-bd54-12f8b0d686c5",
   "metadata": {},
   "outputs": [],
   "source": [
    "## Making individual .smi files from smiles in csv, with the LUDe query number as the id\n",
    "\n",
    "A_id_col = A_df.columns[1]\n",
    "A_smi_col = A_df.columns[2]\n",
    "\n",
    "A_output_folder = \"True_Actives/Smiles\"\n",
    "os.makedirs(A_output_folder, exist_ok = True)\n",
    "\n",
    "for index, row in A_df.iterrows():\n",
    "    unique_id = row[A_id_col]  # Get the unique number\n",
    "    smiles_code = row[A_smi_col]  # Get the SMILES string\n",
    "    \n",
    "    # Define file path\n",
    "    file_path = os.path.join(A_output_folder, f\"{unique_id}.smi\")\n",
    "    \n",
    "    # Write SMILES to the file\n",
    "    with open(file_path, \"w\") as file:\n",
    "        file.write(smiles_code)"
   ]
  },
  {
   "cell_type": "code",
   "execution_count": null,
   "id": "2763c0ac-9ba9-44d8-8d83-e8356fae6871",
   "metadata": {},
   "outputs": [],
   "source": [
    "I_df = pd.read_csv('True_Inactives/I_smiles.csv')\n",
    "\n",
    "I_output_folder = \"True_Inactives/Smiles\"\n",
    "os.makedirs(I_output_folder, exist_ok = True)\n",
    "\n",
    "for index, row in I_df.iterrows():\n",
    "    unique_id = row[I_id_col]  # Get the unique number\n",
    "    smiles_code = row[I_smi_col]  # Get the SMILES string\n",
    "    \n",
    "    # Define file path\n",
    "    file_path = os.path.join(I_output_folder, f\"{unique_id}.smi\")\n",
    "    \n",
    "    # Write SMILES to the file\n",
    "    with open(file_path, \"w\") as file:\n",
    "        file.write(smiles_code)"
   ]
  },
  {
   "cell_type": "code",
   "execution_count": null,
   "id": "b341b38a-ff61-4eac-b30b-9c20ecd9fa69",
   "metadata": {},
   "outputs": [],
   "source": [
    "LD_df = pd.read_csv('LUDe_Decoys/LD_smiles.csv')\n",
    "\n",
    "LD_id_col = LD_df.columns[0]\n",
    "LD_query_col = LD_df.columns[2]\n",
    "LD_smi_col = LD_df.columns[1]\n",
    "\n",
    "LD_output_folder = \"LUDe_Decoys/Smiles\"\n",
    "os.makedirs(LD_output_folder, exist_ok = True)\n",
    "\n",
    "for index, row in LD_df.iterrows():\n",
    "    unique_id = row[LD_id_col]\n",
    "    query_id = row[LD_query_col]\n",
    "    smiles_code = row[LD_smi_col]\n",
    "\n",
    "    file_path = os.path.join(LD_output_folder, f\"{query_id}_{unique_id}.smi\")\n",
    "\n",
    "    with open(file_path, \"w\") as file:\n",
    "        file.write(smiles_code)"
   ]
  },
  {
   "cell_type": "markdown",
   "id": "5bcafed1-3e6f-4368-9de9-c1f5a4eccb54",
   "metadata": {},
   "source": [
    "<h3>1.2 Converting each SMILES file into a .mol2 File</h3>"
   ]
  },
  {
   "cell_type": "code",
   "execution_count": null,
   "id": "2ad1230b-2faa-43f7-9135-9ea98a5c4a3e",
   "metadata": {},
   "outputs": [],
   "source": [
    "## Converting .smi files to .mol2 files put in a separate folder\n",
    "\n",
    "A_smiles_folder = \"True_Actives/Smiles\"\n",
    "A_mol2_output_folder = \"True_Actives/Mol2\"\n",
    "os.makedirs(A_mol2_output_folder, exist_ok = True)\n",
    "\n",
    "for smiles_file in os.listdir(A_smiles_folder):\n",
    "    if smiles_file.endswith(\".smi\"):\n",
    "        file_path = os.path.join(A_smiles_folder, smiles_file)\n",
    "\n",
    "        base_name = os.path.splitext(smiles_file)[0] # extracting just the query number from the filename\n",
    "\n",
    "        mol2_file = os.path.join(A_mol2_output_folder, f\"{base_name}.mol2\")\n",
    "\n",
    "        command = f\"obabel {file_path} -O {mol2_file} --gen3d -h\"\n",
    "\n",
    "        try:\n",
    "            subprocess.run(command, shell = True, check = True)\n",
    "            print(f\"Successfully converted {file_path} to {mol2_file}\")\n",
    "        except subprocess.CalledProcessError as e:\n",
    "            print(f\"Error processing {file_path}: {e}\")\n",
    "            "
   ]
  },
  {
   "cell_type": "code",
   "execution_count": null,
   "id": "1dd70a97-7fc9-47dd-b9eb-9728f1f8101b",
   "metadata": {},
   "outputs": [],
   "source": [
    "## Converting .smi files to .mol2 files put in a separate folder\n",
    "\n",
    "LD_smiles_folder = \"LUDe_Decoys/Smiles\"\n",
    "LD_mol2_output_folder = \"LUDe_Decoys/Mol2\"\n",
    "os.makedirs(LD_mol2_output_folder, exist_ok = True)\n",
    "\n",
    "for smiles_file in os.listdir(LD_smiles_folder):\n",
    "    if smiles_file.endswith(\".smi\"):\n",
    "        file_path = os.path.join(LD_smiles_folder, smiles_file)\n",
    "\n",
    "        base_name = os.path.splitext(smiles_file)[0] # extracting just the query number from the filename\n",
    "\n",
    "        mol2_file = os.path.join(LD_mol2_output_folder, f\"{base_name}.mol2\")\n",
    "\n",
    "        # Check if the .mol2 file already exists\n",
    "        if os.path.exists(mol2_file):\n",
    "            print(f\"Skipping {file_path}, {mol2_file} already exists.\")\n",
    "            continue  # Skip this file\n",
    "            \n",
    "        command = f\"obabel {file_path} -O {mol2_file} --gen3d -h\"\n",
    "\n",
    "        try:\n",
    "            subprocess.run(command, shell = True, check = True)\n",
    "            print(f\"Successfully converted {file_path} to {mol2_file}\")\n",
    "        except subprocess.CalledProcessError as e:\n",
    "            print(f\"Error processing {file_path}: {e}\")"
   ]
  },
  {
   "cell_type": "markdown",
   "id": "5d0b85b8-7a4a-45f9-a675-360a8028156b",
   "metadata": {},
   "source": [
    "<h1>2. Docking with Smina</h1>\n",
    "In this step, all small molecules will be docked into the H-alpha region of the AlphaFold structure of monomeric MYC protein. Coordinates for this region were derived from Chimera; the ~40 residues in the literature-described region (residues 370-409) on MYC were selected, and the coordinates of the centroid were calculated using available commands in Chimera."
   ]
  },
  {
   "cell_type": "code",
   "execution_count": 5,
   "id": "8b2c7903-25db-451b-a650-08033db14b7e",
   "metadata": {},
   "outputs": [
    {
     "name": "stdout",
     "output_type": "stream",
     "text": [
      "Successfully converted True_Actives/Mol2/Query_23.mol2 to True_Actives/Docked/Docked_Query_23.mol2\n",
      "Successfully converted True_Actives/Mol2/Query_26.mol2 to True_Actives/Docked/Docked_Query_26.mol2\n",
      "Successfully converted True_Actives/Mol2/Query_44.mol2 to True_Actives/Docked/Docked_Query_44.mol2\n",
      "Successfully converted True_Actives/Mol2/Query_25.mol2 to True_Actives/Docked/Docked_Query_25.mol2\n",
      "Successfully converted True_Actives/Mol2/Query_13.mol2 to True_Actives/Docked/Docked_Query_13.mol2\n",
      "Successfully converted True_Actives/Mol2/Query_32.mol2 to True_Actives/Docked/Docked_Query_32.mol2\n",
      "Successfully converted True_Actives/Mol2/Query_36.mol2 to True_Actives/Docked/Docked_Query_36.mol2\n",
      "Successfully converted True_Actives/Mol2/Query_37.mol2 to True_Actives/Docked/Docked_Query_37.mol2\n",
      "Successfully converted True_Actives/Mol2/Query_11.mol2 to True_Actives/Docked/Docked_Query_11.mol2\n",
      "Successfully converted True_Actives/Mol2/Query_18.mol2 to True_Actives/Docked/Docked_Query_18.mol2\n",
      "Successfully converted True_Actives/Mol2/Query_38.mol2 to True_Actives/Docked/Docked_Query_38.mol2\n",
      "Successfully converted True_Actives/Mol2/Query_28.mol2 to True_Actives/Docked/Docked_Query_28.mol2\n",
      "Successfully converted True_Actives/Mol2/Query_21.mol2 to True_Actives/Docked/Docked_Query_21.mol2\n",
      "Successfully converted True_Actives/Mol2/Query_43.mol2 to True_Actives/Docked/Docked_Query_43.mol2\n",
      "Successfully converted True_Actives/Mol2/Query_14.mol2 to True_Actives/Docked/Docked_Query_14.mol2\n",
      "Successfully converted True_Actives/Mol2/Query_17.mol2 to True_Actives/Docked/Docked_Query_17.mol2\n",
      "Successfully converted True_Actives/Mol2/Query_30.mol2 to True_Actives/Docked/Docked_Query_30.mol2\n",
      "Successfully converted True_Actives/Mol2/Query_16.mol2 to True_Actives/Docked/Docked_Query_16.mol2\n",
      "Successfully converted True_Actives/Mol2/Query_22.mol2 to True_Actives/Docked/Docked_Query_22.mol2\n",
      "Successfully converted True_Actives/Mol2/Query_10.mol2 to True_Actives/Docked/Docked_Query_10.mol2\n",
      "Successfully converted True_Actives/Mol2/Query_20.mol2 to True_Actives/Docked/Docked_Query_20.mol2\n",
      "Successfully converted True_Actives/Mol2/Query_34.mol2 to True_Actives/Docked/Docked_Query_34.mol2\n",
      "Successfully converted True_Actives/Mol2/Query_41.mol2 to True_Actives/Docked/Docked_Query_41.mol2\n",
      "Successfully converted True_Actives/Mol2/Query_8.mol2 to True_Actives/Docked/Docked_Query_8.mol2\n",
      "Successfully converted True_Actives/Mol2/Query_1.mol2 to True_Actives/Docked/Docked_Query_1.mol2\n",
      "Successfully converted True_Actives/Mol2/Query_3.mol2 to True_Actives/Docked/Docked_Query_3.mol2\n",
      "Successfully converted True_Actives/Mol2/Query_24.mol2 to True_Actives/Docked/Docked_Query_24.mol2\n",
      "Successfully converted True_Actives/Mol2/Query_12.mol2 to True_Actives/Docked/Docked_Query_12.mol2\n",
      "Successfully converted True_Actives/Mol2/Query_5.mol2 to True_Actives/Docked/Docked_Query_5.mol2\n",
      "Successfully converted True_Actives/Mol2/Query_42.mol2 to True_Actives/Docked/Docked_Query_42.mol2\n",
      "Successfully converted True_Actives/Mol2/Query_39.mol2 to True_Actives/Docked/Docked_Query_39.mol2\n",
      "Successfully converted True_Actives/Mol2/Query_33.mol2 to True_Actives/Docked/Docked_Query_33.mol2\n",
      "Successfully converted True_Actives/Mol2/Query_40.mol2 to True_Actives/Docked/Docked_Query_40.mol2\n",
      "Successfully converted True_Actives/Mol2/Query_19.mol2 to True_Actives/Docked/Docked_Query_19.mol2\n",
      "Successfully converted True_Actives/Mol2/Query_6.mol2 to True_Actives/Docked/Docked_Query_6.mol2\n",
      "Successfully converted True_Actives/Mol2/Query_31.mol2 to True_Actives/Docked/Docked_Query_31.mol2\n",
      "Successfully converted True_Actives/Mol2/Query_27.mol2 to True_Actives/Docked/Docked_Query_27.mol2\n",
      "Successfully converted True_Actives/Mol2/Query_29.mol2 to True_Actives/Docked/Docked_Query_29.mol2\n",
      "Successfully converted True_Actives/Mol2/Query_2.mol2 to True_Actives/Docked/Docked_Query_2.mol2\n",
      "Successfully converted True_Actives/Mol2/Query_7.mol2 to True_Actives/Docked/Docked_Query_7.mol2\n",
      "Successfully converted True_Actives/Mol2/Query_15.mol2 to True_Actives/Docked/Docked_Query_15.mol2\n",
      "Successfully converted True_Actives/Mol2/Query_4.mol2 to True_Actives/Docked/Docked_Query_4.mol2\n",
      "Successfully converted True_Actives/Mol2/Query_35.mol2 to True_Actives/Docked/Docked_Query_35.mol2\n",
      "Successfully converted True_Actives/Mol2/Query_9.mol2 to True_Actives/Docked/Docked_Query_9.mol2\n"
     ]
    }
   ],
   "source": [
    "A_mol2_folder = \"True_Actives/Mol2\"\n",
    "MYC = \"PreppedAlphaFoldMYCmonomer.mol2\"\n",
    "A_docked_folder = \"True_Actives/Docked\"\n",
    "os.makedirs(A_docked_folder, exist_ok = True)\n",
    "A_scores_folder = \"True_Actives/Docked/Scores\"\n",
    "os.makedirs(A_scores_folder, exist_ok = True)\n",
    "\n",
    "for mol2_files in os.listdir(A_mol2_folder):\n",
    "    if mol2_files.endswith(\".mol2\"):\n",
    "        file_path = os.path.join(A_mol2_folder, mol2_files)\n",
    "        base_name = os.path.splitext(mol2_files)[0]\n",
    "        docked_mol2_file = os.path.join(A_docked_folder, f\"Docked_{base_name}.mol2\")\n",
    "        docked_score_file = os.path.join(A_scores_folder, f\"Docked_{base_name}.txt\")\n",
    "\n",
    "        if os.path.exists(docked_mol2_file):\n",
    "            print(f\"Skipping {file_path}, {docked_mol2_file} already exists.\")\n",
    "            continue\n",
    "\n",
    "        command = f\"smina -r {MYC} -l {file_path} -o {docked_mol2_file} --center_x -5.20920191 --center_y 7.67740661 --center_z -5.84617042 --size_x 30 --size_y 30 --size_z 30 --num_modes 1 --exhaustiveness 1 --seed 0 > {docked_score_file} 2>&1\"\n",
    "\n",
    "        try:\n",
    "            subprocess.run(command, shell = True, check = True)\n",
    "            print(f\"Successfully converted {file_path} to {docked_mol2_file}\")\n",
    "        except subprocess.CalledProcessError as e:\n",
    "            print(f\"Error processing {file_path}: {e}\")\n"
   ]
  },
  {
   "cell_type": "code",
   "execution_count": null,
   "id": "7cd3b144-d3e6-478e-9ae8-0fbe2faa2b6b",
   "metadata": {},
   "outputs": [],
   "source": []
  }
 ],
 "metadata": {
  "kernelspec": {
   "display_name": "Python 3 (ipykernel)",
   "language": "python",
   "name": "python3"
  },
  "language_info": {
   "codemirror_mode": {
    "name": "ipython",
    "version": 3
   },
   "file_extension": ".py",
   "mimetype": "text/x-python",
   "name": "python",
   "nbconvert_exporter": "python",
   "pygments_lexer": "ipython3",
   "version": "3.8.10"
  }
 },
 "nbformat": 4,
 "nbformat_minor": 5
}
